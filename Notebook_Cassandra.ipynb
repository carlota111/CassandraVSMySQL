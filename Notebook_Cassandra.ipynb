{
 "cells": [
  {
   "cell_type": "markdown",
   "metadata": {},
   "source": [
    "Conexión a la base de datos"
   ]
  },
  {
   "cell_type": "code",
   "execution_count": 1,
   "metadata": {},
   "outputs": [
    {
     "name": "stdout",
     "output_type": "stream",
     "text": [
      "Conexión exitosa a Cassandra\n"
     ]
    }
   ],
   "source": [
    "from cassandra.cluster import Cluster\n",
    "from cassandra.auth import PlainTextAuthProvider\n",
    "\n",
    "# Si Cassandra está protegido por contraseña, agrega la autenticación\n",
    "# auth_provider = PlainTextAuthProvider(username='your_username', password='your_password')\n",
    "\n",
    "cluster = Cluster(['127.0.0.1'], port=9042) \n",
    "session = cluster.connect()\n",
    "\n",
    "session.set_keyspace('system')\n",
    "\n",
    "print(\"Conexión exitosa a Cassandra\")\n"
   ]
  },
  {
   "cell_type": "markdown",
   "metadata": {},
   "source": [
    "Inserción de datos en cassandra"
   ]
  },
  {
   "cell_type": "code",
   "execution_count": 2,
   "metadata": {},
   "outputs": [
    {
     "name": "stdout",
     "output_type": "stream",
     "text": [
      "Datos cargados exitosamente desde el CSV a Cassandra.\n"
     ]
    }
   ],
   "source": [
    "import pandas as pd\n",
    "from cassandra.cluster import Cluster\n",
    "from cassandra.query import SimpleStatement\n",
    "from datetime import datetime\n",
    "\n",
    "# Configura la dirección IP del nodo Cassandra\n",
    "CASSANDRA_HOST = '127.0.0.1'  \n",
    "CASSANDRA_PORT = 9042  \n",
    "\n",
    "# Nombre del Keyspace y la tabla\n",
    "KEYSPACE = 'mykeyspace'\n",
    "TABLE = 'mytable'\n",
    "\n",
    "# Cargar los datos desde un archivo CSV (ajusta la ruta del archivo)\n",
    "CSV_FILE = 'dataset_extracto.csv' \n",
    "\n",
    "def connect_to_cassandra():\n",
    "    \"\"\"Conectar a Cassandra y retornar la sesión.\"\"\"\n",
    "    cluster = Cluster([CASSANDRA_HOST], port=CASSANDRA_PORT)\n",
    "    session = cluster.connect()\n",
    "    return session\n",
    "\n",
    "def create_keyspace_and_table(session):\n",
    "    \"\"\"Crear un Keyspace y una tabla en Cassandra.\"\"\"\n",
    "    # Crear Keyspace si no existe\n",
    "    session.execute(f\"\"\"\n",
    "        CREATE KEYSPACE IF NOT EXISTS {KEYSPACE} \n",
    "        WITH replication = {{'class': 'SimpleStrategy', 'replication_factor': 1}};\n",
    "    \"\"\")\n",
    "\n",
    "    # Usar el Keyspace creado\n",
    "    session.set_keyspace(KEYSPACE)\n",
    "\n",
    "    # Crear la tabla\n",
    "    session.execute(f\"\"\"\n",
    "        CREATE TABLE IF NOT EXISTS {TABLE} (\n",
    "            id INT PRIMARY KEY, \n",
    "            nombre TEXT,\n",
    "            edad INT,\n",
    "            email TEXT,\n",
    "            fecha_registro TIMESTAMP\n",
    "        );\n",
    "    \"\"\")\n",
    "\n",
    "def insert_data_from_csv(session):\n",
    "    \"\"\"Leer datos de CSV y cargarlos en Cassandra.\"\"\"\n",
    "    # Leer el archivo CSV con pandas\n",
    "    df = pd.read_csv(CSV_FILE)\n",
    "\n",
    "    # Convertir 'fecha_registro' al formato de timestamp\n",
    "    df['fecha_registro'] = pd.to_datetime(df['fecha_registro'], errors='coerce')\n",
    "\n",
    "    # Crear la sentencia de inserción\n",
    "    insert_stmt = session.prepare(f\"\"\"\n",
    "        INSERT INTO {TABLE} (id, nombre, edad, email, fecha_registro) \n",
    "        VALUES (?, ?, ?, ?, ?)\n",
    "    \"\"\")\n",
    "\n",
    "    # Insertar cada fila del CSV en la tabla\n",
    "    for index, row in df.iterrows():\n",
    "        # Convertir el ID a int\n",
    "        id_value = int(row['id'])  \n",
    "\n",
    "        # Ejecutar la inserción de datos\n",
    "        session.execute(insert_stmt, (id_value, row['nombre'], row['edad'], row['email'], row['fecha_registro']))\n",
    "\n",
    "def main():\n",
    "    # Conectar a Cassandra\n",
    "    session = connect_to_cassandra()\n",
    "\n",
    "    # Crear el Keyspace y la tabla (si no existen)\n",
    "    create_keyspace_and_table(session)\n",
    "\n",
    "    # Insertar datos desde el CSV\n",
    "    insert_data_from_csv(session)\n",
    "\n",
    "    print(\"Datos cargados exitosamente desde el CSV a Cassandra.\")\n",
    "\n",
    "if __name__ == \"__main__\":\n",
    "    main()\n"
   ]
  },
  {
   "cell_type": "markdown",
   "metadata": {},
   "source": [
    "Consultas en Cassandra"
   ]
  },
  {
   "cell_type": "code",
   "execution_count": 4,
   "metadata": {},
   "outputs": [
    {
     "name": "stdout",
     "output_type": "stream",
     "text": [
      "La consulta tardó 0.0025 segundos en ejecutarse.\n",
      "Row(id=9527, edad=49, email='oroberts@example.net', fecha_registro=datetime.datetime(2020, 4, 15, 0, 0), nombre='Joshua Riddle')\n",
      "Row(id=3788, edad=86, email='emiller@example.org', fecha_registro=datetime.datetime(2024, 8, 9, 0, 0), nombre='Michelle Johnson')\n",
      "Row(id=7670, edad=74, email='tracywilliams@example.org', fecha_registro=datetime.datetime(2021, 4, 17, 0, 0), nombre='Mitchell Walker')\n",
      "Row(id=2668, edad=47, email='zacharybrewer@example.net', fecha_registro=datetime.datetime(2023, 5, 15, 0, 0), nombre='Jeffery Malone')\n",
      "Row(id=9993, edad=69, email='smithcharles@example.org', fecha_registro=datetime.datetime(2022, 8, 2, 0, 0), nombre='Martin Stevens')\n",
      "Row(id=7664, edad=82, email='brownlinda@example.com', fecha_registro=datetime.datetime(2024, 8, 2, 0, 0), nombre='Raymond Santos')\n",
      "Row(id=8091, edad=30, email='steelejeffrey@example.com', fecha_registro=datetime.datetime(2020, 6, 8, 0, 0), nombre='Kelly Green')\n",
      "Row(id=6751, edad=98, email='briggsrobert@example.org', fecha_registro=datetime.datetime(2023, 10, 25, 0, 0), nombre='Amanda Byrd')\n",
      "Row(id=8516, edad=91, email='zunigalance@example.org', fecha_registro=datetime.datetime(2020, 12, 31, 0, 0), nombre='Billy Roach')\n",
      "Row(id=232, edad=94, email='gallowayricardo@example.com', fecha_registro=datetime.datetime(2023, 7, 30, 0, 0), nombre='Crystal Davis MD')\n",
      "La conexión a Cassandra ha sido cerrada\n"
     ]
    }
   ],
   "source": [
    "from cassandra.cluster import Cluster\n",
    "from cassandra.query import SimpleStatement\n",
    "import time\n",
    "\n",
    "def conectar_cassandra():\n",
    "    try:\n",
    "        # Conectar a Cassandra\n",
    "        cluster = Cluster(['127.0.0.1']) \n",
    "        session = cluster.connect('mykeyspace')  \n",
    "\n",
    "        # Medir el tiempo de inicio\n",
    "        start_time = time.time()\n",
    "\n",
    "        # Ejecutar la consulta\n",
    "        query = \"select * from mykeyspace.mytable ;\" \n",
    "        stmt = SimpleStatement(query)\n",
    "        resultados = session.execute(stmt)\n",
    "\n",
    "        # Medir el tiempo final\n",
    "        end_time = time.time()\n",
    "\n",
    "        # Calcular el tiempo de ejecución\n",
    "        tiempo_ejecucion = end_time - start_time\n",
    "        print(f\"La consulta tardó {tiempo_ejecucion:.4f} segundos en ejecutarse.\")\n",
    "\n",
    "        # Imprimir los resultados\n",
    "        for registro in resultados:\n",
    "            print(registro)\n",
    "\n",
    "    except Exception as e:\n",
    "        print(\"Error al conectar o ejecutar la consulta:\", e)\n",
    "\n",
    "    finally:\n",
    "        # Cerrar la conexión\n",
    "        if session:\n",
    "            session.shutdown()  # Cierra la sesión\n",
    "            print(\"La conexión a Cassandra ha sido cerrada\")\n",
    "\n",
    "# Llamar a la función para conectar y ejecutar la consulta\n",
    "conectar_cassandra()\n"
   ]
  }
 ],
 "metadata": {
  "kernelspec": {
   "display_name": "cassandra",
   "language": "python",
   "name": "python3"
  },
  "language_info": {
   "codemirror_mode": {
    "name": "ipython",
    "version": 3
   },
   "file_extension": ".py",
   "mimetype": "text/x-python",
   "name": "python",
   "nbconvert_exporter": "python",
   "pygments_lexer": "ipython3",
   "version": "3.9.20"
  }
 },
 "nbformat": 4,
 "nbformat_minor": 2
}
