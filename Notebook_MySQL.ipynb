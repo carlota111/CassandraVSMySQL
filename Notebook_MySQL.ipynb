{
 "cells": [
  {
   "cell_type": "code",
   "execution_count": 1,
   "metadata": {},
   "outputs": [
    {
     "name": "stdout",
     "output_type": "stream",
     "text": [
      "Conexión exitosa a la base de datos\n",
      "La conexión a la base de datos ha sido cerrada\n"
     ]
    }
   ],
   "source": [
    "#Conectarme a la bbdd\n",
    "import mysql.connector\n",
    "from mysql.connector import Error\n",
    "\n",
    "def conectar_mysql():\n",
    "    try:\n",
    "        conexion = mysql.connector.connect(\n",
    "            host='localhost', \n",
    "            port=3306,        \n",
    "            user='root',      \n",
    "            password='pw',    \n",
    "            database='dbMySQL'  \n",
    "        )\n",
    "\n",
    "        if conexion.is_connected():\n",
    "            print(\"Conexión exitosa a la base de datos\")\n",
    "\n",
    "    except Error as e:\n",
    "        print(\"Error al conectar a la base de datos:\", e)\n",
    "\n",
    "    finally:\n",
    "        if conexion.is_connected():\n",
    "            conexion.close()\n",
    "            print(\"La conexión a la base de datos ha sido cerrada\")\n",
    "\n",
    "conectar_mysql()"
   ]
  },
  {
   "cell_type": "code",
   "execution_count": 2,
   "metadata": {},
   "outputs": [
    {
     "name": "stdout",
     "output_type": "stream",
     "text": [
      "Archivo CSV 'dataset_extracto.csv' creado con éxito.\n"
     ]
    }
   ],
   "source": [
    "#Crear dataset\n",
    "import pandas as pd\n",
    "import numpy as np\n",
    "from datetime import datetime, timedelta\n",
    "\n",
    "# Definir el número de registros\n",
    "num_records = 10\n",
    "\n",
    "# Generar datos aleatorios para cada columna\n",
    "data = {\n",
    "    'id': np.arange(1, num_records + 1),\n",
    "    'nombre': np.random.choice(['Carlos', 'Ana', 'Luis', 'Maria', 'José', 'Laura'], num_records),\n",
    "    'edad': np.random.randint(18, 70, num_records),\n",
    "    'email': [f\"user{num}@example.com\" for num in range(num_records)],\n",
    "    'fecha_registro': [datetime.today() - timedelta(days=np.random.randint(1, 365)) for _ in range(num_records)]\n",
    "}\n",
    "\n",
    "# Crear DataFrame con los datos\n",
    "df = pd.DataFrame(data)\n",
    "\n",
    "# Guardar el DataFrame en un archivo CSV\n",
    "df.to_csv('dataset_extracto.csv', index=False)\n",
    "\n",
    "print(\"Archivo CSV 'dataset_extracto.csv' creado con éxito.\")"
   ]
  },
  {
   "cell_type": "code",
   "execution_count": null,
   "metadata": {},
   "outputs": [
    {
     "name": "stdout",
     "output_type": "stream",
     "text": [
      "Conexión exitosa a la base de datos\n",
      "Tabla 'usuarios' creada o ya existía.\n",
      "Registros anteriores eliminados exitosamente.\n",
      "Se han insertado los  registros en la base de datos.\n",
      "Conexión cerrada.\n"
     ]
    }
   ],
   "source": [
    "#Insertar los datos del csv en tabla usuarios \n",
    "import mysql.connector\n",
    "import csv\n",
    "from mysql.connector import Error\n",
    "\n",
    "def insertar_datos_csv():\n",
    "    try:\n",
    "        # Conexión a la base de datos MySQL\n",
    "        conexion = mysql.connector.connect(\n",
    "            host='localhost',\n",
    "            port=3306,\n",
    "            user='root',  \n",
    "            password='pw',\n",
    "            database='dbMySQL'  \n",
    "        )\n",
    "\n",
    "        if conexion.is_connected():\n",
    "            print(\"Conexión exitosa a la base de datos\")\n",
    "\n",
    "            cursor = conexion.cursor()\n",
    "   \n",
    "          # Crear la tabla 'usuarios' si no existe\n",
    "            cursor.execute(\"\"\"\n",
    "                CREATE TABLE IF NOT EXISTS usuarios (\n",
    "                    id INT AUTO_INCREMENT PRIMARY KEY,\n",
    "                    nombre VARCHAR(50) NOT NULL,\n",
    "                    edad INT,\n",
    "                    email VARCHAR(50),\n",
    "                    fecha_registro DATE\n",
    "                )\n",
    "            \"\"\")\n",
    "            print(\"Tabla 'usuarios' creada o ya existía.\")\n",
    "\n",
    "\t    # Borrar todos los registros de la tabla 'usuarios' para evitar duplicados\n",
    "            cursor.execute(\"DELETE FROM usuarios\")\n",
    "            conexion.commit()\n",
    "            print(\"Registros anteriores eliminados exitosamente.\")\n",
    "\n",
    "            # Leer los datos del archivo CSV\n",
    "            with open('dataset_extracto.csv', mode='r') as archivo_csv:\n",
    "                lector_csv = csv.reader(archivo_csv)\n",
    "                next(lector_csv)  # Para saltar la primera línea (encabezados)\n",
    "\n",
    "                # Insertar los datos en la base de datos\n",
    "                for fila in lector_csv:\n",
    "                    cursor.execute(\"\"\"\n",
    "                        INSERT INTO usuarios (id, nombre, edad, email, fecha_registro)\n",
    "                        VALUES (%s, %s, %s, %s, %s)\n",
    "                    \"\"\", fila)\n",
    "\n",
    "            # Confirmar los cambios en la base de datos\n",
    "            conexion.commit()\n",
    "            print(f\"Se han insertado los  registros en la base de datos.\")\n",
    "\n",
    "    except Error as e:\n",
    "        print(\"Error al conectar a la base de datos o al insertar los datos:\", e)\n",
    "\n",
    "    finally:\n",
    "        if conexion.is_connected():\n",
    "            cursor.close()\n",
    "            conexion.close()\n",
    "            print(\"Conexión cerrada.\")\n",
    "\n",
    "# Llamar a la función para insertar los datos\n",
    "insertar_datos_csv()"
   ]
  },
  {
   "cell_type": "code",
   "execution_count": null,
   "metadata": {},
   "outputs": [
    {
     "name": "stdout",
     "output_type": "stream",
     "text": [
      "Conexión exitosa a la base de datos\n",
      "La consulta tardó 0.0039 segundos en ejecutarse.\n",
      "(1, 'José', 24, 'user0@example.com', datetime.date(2024, 10, 7))\n",
      "(2, 'Maria', 56, 'user1@example.com', datetime.date(2024, 7, 3))\n",
      "(3, 'Luis', 27, 'user2@example.com', datetime.date(2024, 1, 17))\n",
      "(4, 'Ana', 28, 'user3@example.com', datetime.date(2024, 10, 30))\n",
      "(5, 'José', 68, 'user4@example.com', datetime.date(2024, 7, 17))\n",
      "(6, 'Carlos', 38, 'user5@example.com', datetime.date(2023, 11, 18))\n",
      "(7, 'José', 33, 'user6@example.com', datetime.date(2024, 1, 1))\n",
      "(8, 'Laura', 50, 'user7@example.com', datetime.date(2024, 1, 16))\n",
      "(9, 'Laura', 27, 'user8@example.com', datetime.date(2023, 12, 3))\n",
      "(10, 'Ana', 58, 'user9@example.com', datetime.date(2024, 5, 22))\n",
      "La conexión a la base de datos ha sido cerrada\n"
     ]
    }
   ],
   "source": [
    "# Hacer una consulta y saber cuanto tarda\n",
    "import mysql.connector\n",
    "from mysql.connector import Error\n",
    "import time\n",
    "\n",
    "def conectar_mysql():\n",
    "    try:\n",
    "        conexion = mysql.connector.connect(\n",
    "            host='localhost',\n",
    "            port=3306,\n",
    "            user='root',\n",
    "            password='pw',\n",
    "            database='dbMySQL'\n",
    "        )\n",
    "\n",
    "        if conexion.is_connected():\n",
    "            print(\"Conexión exitosa a la base de datos\")\n",
    "           \n",
    "            cursor = conexion.cursor()\n",
    "\n",
    "            # Medir el tiempo de inicio\n",
    "            start_time = time.time()\n",
    "\n",
    "            # Ejecutar la consulta\n",
    "            cursor.execute(\"SELECT * FROM usuarios\")\n",
    "            resultados = cursor.fetchall()\n",
    "\n",
    "            # Medir el tiempo final\n",
    "            end_time = time.time()\n",
    "\n",
    "            # Calcular el tiempo de ejecución\n",
    "            tiempo_ejecucion = end_time - start_time\n",
    "            print(f\"La consulta tardó {tiempo_ejecucion:.4f} segundos en ejecutarse.\")\n",
    "\n",
    "            # Imprimir los resultados\n",
    "            for registro in resultados:\n",
    "                print(registro)\n",
    "\n",
    "    except Error as e:\n",
    "        print(\"Error al conectar a la base de datos:\", e)\n",
    "\n",
    "    finally:\n",
    "        if conexion.is_connected():\n",
    "            cursor.close()\n",
    "            conexion.close()\n",
    "            print(\"La conexión a la base de datos ha sido cerrada\")\n",
    "\n",
    "conectar_mysql()\n"
   ]
  }
 ],
 "metadata": {
  "kernelspec": {
   "display_name": "MySQL",
   "language": "python",
   "name": "python3"
  },
  "language_info": {
   "codemirror_mode": {
    "name": "ipython",
    "version": 3
   },
   "file_extension": ".py",
   "mimetype": "text/x-python",
   "name": "python",
   "nbconvert_exporter": "python",
   "pygments_lexer": "ipython3",
   "version": "3.13.0"
  }
 },
 "nbformat": 4,
 "nbformat_minor": 2
}
